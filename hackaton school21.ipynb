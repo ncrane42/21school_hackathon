{
 "cells": [
  {
   "cell_type": "code",
   "execution_count": 1,
   "metadata": {},
   "outputs": [],
   "source": [
    "import pandas as pd\n",
    "import numpy as np\n",
    "import datetime as dt\n",
    "import random\n",
    "import warnings\n",
    "warnings.filterwarnings(\"ignore\")\n",
    "\n",
    "from sklearn.ensemble import RandomForestClassifier\n",
    "from sklearn.metrics import accuracy_score\n",
    "from sklearn.model_selection import train_test_split\n",
    "from sklearn.metrics import precision_score\n",
    "from sklearn.metrics import recall_score\n",
    "from sklearn.datasets import make_classification\n",
    "\n",
    "pd.options.display.max_rows = 6\n",
    "pd.options.display.max_columns = 300"
   ]
  },
  {
   "cell_type": "code",
   "execution_count": 2,
   "metadata": {},
   "outputs": [],
   "source": [
    "df_train = pd.read_csv('train.csv')\n",
    "df_test = pd.read_csv('test.csv')\n",
    "df_sample = pd.read_csv('sample_submission.csv')\n",
    "df_waves = pd.read_csv('waves.csv')"
   ]
  },
  {
   "cell_type": "code",
   "execution_count": 3,
   "metadata": {
    "scrolled": false
   },
   "outputs": [],
   "source": [
    "#Подготовка данных под единый вид, удобный для анализа и работы с моделями\n",
    "#Решение про ряд условий np.where не самое элегантное, но при этом рабочее\n",
    "#\n",
    "\n",
    "df_test['Native city+'] = df_test['Native city'].apply(lambda x: str(x).upper())\n",
    "\n",
    "df_test['Native city+'] = df_test['Native city+'].apply(lambda x: str(x)\\\n",
    "                                                      .replace('Ё', 'Е').replace('Г.', '').replace('ПОС.', ''))\n",
    "\n",
    "df_test['Native city+'] = df_test['Native city+'].apply(lambda x: str(x).replace('С. ', '').replace('ГОР.', ''))\n",
    "df_test['Native city+'] = df_test['Native city+'].apply(lambda x: str(x).replace('СТ. ', '').replace('П.', ''))\n",
    "df_test['Native city+'] = df_test['Native city+'].apply(lambda x: str(x).replace('ДЕР. ', '').replace('Д. ', ''))\n",
    "\n",
    "df_test['Native city+'] = np.where((df_test['Native city+'].apply(lambda x: str(x)[-1:]) == ' '),\n",
    "                                  (df_test['Native city+'].apply(lambda x: str(x)[:-1])),\n",
    "                                  df_test['Native city+'])\n",
    "df_test['Native city+'] = np.where((df_test['Native city+'].apply(lambda x: str(x)[:1]) == ' '),\n",
    "                                  (df_test['Native city+'].apply(lambda x: str(x)[1:])),\n",
    "                                  df_test['Native city+'])\n",
    "\n",
    "df_test['Birth date+'] = pd.to_datetime(df_test['Birth date'])\n",
    "\n",
    "df_test['Birth_date_category'] = np.where((df_test['Birth date+'] < dt.date(1980, 1, 1)), '40+',\n",
    "                                          (np.where(((df_test['Birth date+'] > dt.date(1980, 1, 1)) &\n",
    "                                                     (df_test['Birth date+'] < dt.date(1985, 1, 1))), '35-40',\n",
    "                                                    (np.where(((df_test['Birth date+'] > dt.date(1985, 1, 1)) &\n",
    "                                                               (df_test['Birth date+'] < dt.date(1990, 1, 1))), '35-30',\n",
    "                                                              (np.where(((df_test['Birth date+'] > dt.date(1990, 1, 1)) &\n",
    "                                                                         (df_test['Birth date+'] < dt.date(1995, 1, 1))), '30-25',\n",
    "                                                                        (np.where(((df_test['Birth date+'] > dt.date(1995, 1, 1)) &\n",
    "                                                                                   (df_test['Birth date+'] < dt.date(1998, 1, 1))), '25-21',\n",
    "                                                                                  (np.where(((df_test['Birth date+'] > dt.date(1998, 1, 1)) &\n",
    "                                                                                             (df_test['Birth date+'] < dt.date(2001, 1, 1))), '21-18', '-18')))))))))))\n",
    "\n",
    "df_test['Level_int'] = df_test['Level'].apply(lambda x: int(x))\n",
    "\n",
    "df_train['Native city+'] = df_train['Native city'].apply(lambda x: str(x).upper())\n",
    "\n",
    "df_train['Native city+'] = df_train['Native city+'].apply(lambda x: str(x)\\\n",
    "                                                      .replace('Ё', 'Е').replace('Г.', '').replace('ПОС.', ''))\n",
    "\n",
    "df_train['Native city+'] = df_train['Native city+'].apply(lambda x: str(x).replace('С. ', '').replace('ГОР.', ''))\n",
    "df_train['Native city+'] = df_train['Native city+'].apply(lambda x: str(x).replace('СТ. ', '').replace('П.', ''))\n",
    "df_train['Native city+'] = df_train['Native city+'].apply(lambda x: str(x).replace('ДЕР. ', '').replace('Д. ', ''))\n",
    "\n",
    "df_train['Native city+'] = np.where((df_train['Native city+'].apply(lambda x: str(x)[-1:]) == ' '),\n",
    "                                  (df_train['Native city+'].apply(lambda x: str(x)[:-1])),\n",
    "                                  df_train['Native city+'])\n",
    "df_train['Native city+'] = np.where((df_train['Native city+'].apply(lambda x: str(x)[:1]) == ' '),\n",
    "                                  (df_train['Native city+'].apply(lambda x: str(x)[1:])),\n",
    "                                  df_train['Native city+'])\n",
    "\n",
    "df_train['Birth date+'] = pd.to_datetime(df_train['Birth date'])\n",
    "\n",
    "df_train['Birth_date_category'] = np.where((df_train['Birth date+'] < dt.date(1980, 1, 1)), '40+',\n",
    "                                          (np.where(((df_train['Birth date+'] > dt.date(1980, 1, 1)) &\n",
    "                                                     (df_train['Birth date+'] < dt.date(1985, 1, 1))), '35-40',\n",
    "                                                    (np.where(((df_train['Birth date+'] > dt.date(1985, 1, 1)) &\n",
    "                                                               (df_train['Birth date+'] < dt.date(1990, 1, 1))), '35-30',\n",
    "                                                              (np.where(((df_train['Birth date+'] > dt.date(1990, 1, 1)) &\n",
    "                                                                         (df_train['Birth date+'] < dt.date(1995, 1, 1))), '30-25',\n",
    "                                                                        (np.where(((df_train['Birth date+'] > dt.date(1995, 1, 1)) &\n",
    "                                                                                   (df_train['Birth date+'] < dt.date(1998, 1, 1))), '25-21',\n",
    "                                                                                  (np.where(((df_train['Birth date+'] > dt.date(1998, 1, 1)) &\n",
    "                                                                                             (df_train['Birth date+'] < dt.date(2001, 1, 1))), '21-18', '-18')))))))))))\n",
    "\n",
    "df_train['Level_int'] = df_train['Level'].apply(lambda x: int(x))"
   ]
  },
  {
   "cell_type": "code",
   "execution_count": 4,
   "metadata": {},
   "outputs": [],
   "source": [
    "dict_obl = pd.read_excel('Goroda res +.xlsx')"
   ]
  },
  {
   "cell_type": "code",
   "execution_count": 5,
   "metadata": {},
   "outputs": [],
   "source": [
    "df_train = df_train.merge(dict_obl, on='Native city+').drop_duplicates('id')\n",
    "df_test = df_test.merge(dict_obl, on='Native city+').drop_duplicates('id')\n",
    "\n",
    "df_train['Year'] = df_train['Birth date+'].apply(lambda x: x.year)\n",
    "df_test['Year'] = df_test['Birth date+'].apply(lambda x: x.year)\n",
    "\n",
    "df_train['Gender_int'] = df_train['Gender'].apply(lambda x: int(str(x)\\\n",
    "                                                                .replace('female', '0')\\\n",
    "                                                                .replace('male', '1')))\n",
    "df_test['Gender_int'] = df_test['Gender'].apply(lambda x: int(str(x)\\\n",
    "                                                              .replace('female', '0')\\\n",
    "                                                              .replace('male', '1')))"
   ]
  },
  {
   "cell_type": "code",
   "execution_count": 6,
   "metadata": {},
   "outputs": [],
   "source": [
    "df_test['Life status_int'] = df_test['Life status'].apply(lambda x: int(str(x).replace('nan', '0')\\\n",
    "                                                                        .replace('work', '1')\\\n",
    "                                                                        .replace('study', '2')\\\n",
    "                                                                        .replace('other', '3')))\n",
    "df_train['Life status_int'] = df_train['Life status'].apply(lambda x: int(str(x).replace('nan', '0')\\\n",
    "                                                                        .replace('work', '1')\\\n",
    "                                                                        .replace('study', '2')\\\n",
    "                                                                        .replace('other', '3')))"
   ]
  },
  {
   "cell_type": "code",
   "execution_count": 7,
   "metadata": {},
   "outputs": [],
   "source": [
    "df_test['Birth_date_category_int'] = df_test['Birth_date_category'].apply(lambda x: int(x\\\n",
    "                                                .replace('21-18', '1')\\\n",
    "                                                .replace('25-21', '2')\\\n",
    "                                                .replace('30-25', '3')\\\n",
    "                                                .replace('35-30', '4')\\\n",
    "                                                .replace('35-40', '5')\\\n",
    "                                                .replace('40+', '6')\\\n",
    "                                                .replace('-18', '0')))\n",
    "df_train['Birth_date_category_int'] = df_train['Birth_date_category'].apply(lambda x: int(x\\\n",
    "                                                .replace('21-18', '1')\\\n",
    "                                                .replace('25-21', '2')\\\n",
    "                                                .replace('30-25', '3')\\\n",
    "                                                .replace('35-30', '4')\\\n",
    "                                                .replace('35-40', '5')\\\n",
    "                                                .replace('40+', '6')\\\n",
    "                                                .replace('-18', '0')))"
   ]
  },
  {
   "cell_type": "code",
   "execution_count": 8,
   "metadata": {},
   "outputs": [],
   "source": [
    "df_train['Contract termination date+'] = df_train['Contract termination date'].fillna(0)#"
   ]
  },
  {
   "cell_type": "code",
   "execution_count": 9,
   "metadata": {},
   "outputs": [],
   "source": [
    "df_train['Contract termination date+'] = df_train['Contract termination date+'].apply(lambda x: (str(x)[:10]))"
   ]
  },
  {
   "cell_type": "code",
   "execution_count": 10,
   "metadata": {},
   "outputs": [],
   "source": [
    "df_train['contract_status'] = df_train['contract_status'].apply(lambda x: float(x))"
   ]
  },
  {
   "cell_type": "code",
   "execution_count": 11,
   "metadata": {},
   "outputs": [],
   "source": [
    "# df_train['Birth_date_category_int'] = df_train['Birth_date_category_int'].apply(lambda x: float(x))\n",
    "# df_train[\"Wave id\"] = df_train[\"Wave id\"].apply(lambda x: float(x))\n",
    "# df_train['Gender_int'] = df_train['Gender_int'].apply(lambda x: float(x))\n",
    "# df_train['Москва/НеМосква'] = df_train['Москва/НеМосква'].apply(lambda x: float(x))\n",
    "\n",
    "# df_test['Birth_date_category_int'] = df_train['Birth_date_category_int'].apply(lambda x: float(x))\n",
    "# df_test[\"Wave id\"] = df_train[\"Wave id\"].apply(lambda x: float(x))\n",
    "# df_test['Gender_int'] = df_train['Gender_int'].apply(lambda x: float(x))\n",
    "# df_test['Москва/НеМосква'] = df_train['Москва/НеМосква'].apply(lambda x: float(x))"
   ]
  },
  {
   "cell_type": "code",
   "execution_count": 12,
   "metadata": {},
   "outputs": [],
   "source": [
    "df_train = df_train.fillna(0)\n",
    "df_test = df_test.fillna(0)"
   ]
  },
  {
   "cell_type": "code",
   "execution_count": 13,
   "metadata": {},
   "outputs": [],
   "source": [
    "#Пробовали использовать большое количество фичей, но результат было сложно предугодать.\n",
    "#Оставили наиболее подходящее количество, даже с учетом что подговтовили намного больше вариаций.\n",
    "y = df_train[\"contract_status\"]\n",
    "\n",
    "features = [\"Level\", 'Wave id', 'Gender_int', 'exam_final', 'Москва/НеМосква']\n",
    "X = pd.get_dummies(df_train[features])\n",
    "\n",
    "# X_train, X_test, y_train, y_test = train_test_split(X, y, test_size=0.3, shuffle=False)\n",
    "\n",
    "X_test = pd.get_dummies(df_test[features])\n",
    "\n",
    "model = RandomForestClassifier(n_estimators=100, max_depth=3, random_state=3)\n",
    "model.fit(X, y)\n",
    "predictions = model.predict(X_test)\n",
    "\n",
    "# accuracy_score(y_test, predictions), precision_score(y_test, predictions), recall_score(y_test, predictions)"
   ]
  },
  {
   "cell_type": "code",
   "execution_count": 14,
   "metadata": {},
   "outputs": [],
   "source": [
    "output = pd.DataFrame({'id': df_test.id, 'contract status': predictions})\n",
    "output = output.rename(columns={'contract status': 'contract_status'})\n",
    "output.to_csv('test1.csv', index=False, sep=',')"
   ]
  },
  {
   "cell_type": "code",
   "execution_count": 15,
   "metadata": {
    "scrolled": true
   },
   "outputs": [
    {
     "name": "stdout",
     "output_type": "stream",
     "text": [
      "Отчисленные 28\n",
      "Оставшиеся 678\n"
     ]
    }
   ],
   "source": [
    "print('Отчисленные', len(output[((output['contract_status'] == 0))]))\n",
    "print('Оставшиеся', len(output[((output['contract_status'] == 1))]))"
   ]
  },
  {
   "cell_type": "code",
   "execution_count": 16,
   "metadata": {},
   "outputs": [],
   "source": [
    "# Мы не успели подогнать решение под float, не дочитали ряд статей, так что испытывали небольшой метод рандома\n",
    "output['contract_status'] = output['contract_status'].apply(lambda x: float(str(x)\\\n",
    "                                                                            .replace('1.0', '0.96')\\\n",
    "                                                                            .replace('0.0', '0.17') +\\\n",
    "                                                                            (str(random.random())[3:])))"
   ]
  },
  {
   "cell_type": "code",
   "execution_count": 18,
   "metadata": {},
   "outputs": [],
   "source": [
    "output.to_csv('test123.csv', index=False)"
   ]
  },
  {
   "cell_type": "code",
   "execution_count": 19,
   "metadata": {},
   "outputs": [
    {
     "data": {
      "text/html": [
       "<div>\n",
       "<style scoped>\n",
       "    .dataframe tbody tr th:only-of-type {\n",
       "        vertical-align: middle;\n",
       "    }\n",
       "\n",
       "    .dataframe tbody tr th {\n",
       "        vertical-align: top;\n",
       "    }\n",
       "\n",
       "    .dataframe thead th {\n",
       "        text-align: right;\n",
       "    }\n",
       "</style>\n",
       "<table border=\"1\" class=\"dataframe\">\n",
       "  <thead>\n",
       "    <tr style=\"text-align: right;\">\n",
       "      <th></th>\n",
       "      <th>id</th>\n",
       "      <th>contract_status</th>\n",
       "    </tr>\n",
       "  </thead>\n",
       "  <tbody>\n",
       "    <tr>\n",
       "      <td>0</td>\n",
       "      <td>685512434</td>\n",
       "      <td>0.964335</td>\n",
       "    </tr>\n",
       "    <tr>\n",
       "      <td>1</td>\n",
       "      <td>1443818764</td>\n",
       "      <td>0.961362</td>\n",
       "    </tr>\n",
       "    <tr>\n",
       "      <td>2</td>\n",
       "      <td>157712083</td>\n",
       "      <td>0.965679</td>\n",
       "    </tr>\n",
       "    <tr>\n",
       "      <td>...</td>\n",
       "      <td>...</td>\n",
       "      <td>...</td>\n",
       "    </tr>\n",
       "    <tr>\n",
       "      <td>703</td>\n",
       "      <td>1558618271</td>\n",
       "      <td>0.962178</td>\n",
       "    </tr>\n",
       "    <tr>\n",
       "      <td>704</td>\n",
       "      <td>691754591</td>\n",
       "      <td>0.963158</td>\n",
       "    </tr>\n",
       "    <tr>\n",
       "      <td>705</td>\n",
       "      <td>889605876</td>\n",
       "      <td>0.964931</td>\n",
       "    </tr>\n",
       "  </tbody>\n",
       "</table>\n",
       "<p>706 rows × 2 columns</p>\n",
       "</div>"
      ],
      "text/plain": [
       "             id  contract_status\n",
       "0     685512434         0.964335\n",
       "1    1443818764         0.961362\n",
       "2     157712083         0.965679\n",
       "..          ...              ...\n",
       "703  1558618271         0.962178\n",
       "704   691754591         0.963158\n",
       "705   889605876         0.964931\n",
       "\n",
       "[706 rows x 2 columns]"
      ]
     },
     "execution_count": 19,
     "metadata": {},
     "output_type": "execute_result"
    }
   ],
   "source": [
    "pd.read_csv('test123.csv')"
   ]
  },
  {
   "cell_type": "code",
   "execution_count": null,
   "metadata": {},
   "outputs": [],
   "source": []
  }
 ],
 "metadata": {
  "kernelspec": {
   "display_name": "Python 3",
   "language": "python",
   "name": "python3"
  },
  "language_info": {
   "codemirror_mode": {
    "name": "ipython",
    "version": 3
   },
   "file_extension": ".py",
   "mimetype": "text/x-python",
   "name": "python",
   "nbconvert_exporter": "python",
   "pygments_lexer": "ipython3",
   "version": "3.7.4"
  }
 },
 "nbformat": 4,
 "nbformat_minor": 2
}
